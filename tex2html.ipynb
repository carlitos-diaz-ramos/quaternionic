{
 "cells": [
  {
   "cell_type": "markdown",
   "metadata": {},
   "source": [
    "# Translate tex to html"
   ]
  },
  {
   "cell_type": "markdown",
   "metadata": {},
   "source": [
    "This is an ad-hoc code.  Don't use it for general purpose."
   ]
  },
  {
   "cell_type": "code",
   "execution_count": 1,
   "metadata": {},
   "outputs": [],
   "source": [
    "from itertools import dropwhile\n",
    "from pathlib import Path\n",
    "import re\n",
    "from typing import Iterable, Iterator, TextIO"
   ]
  },
  {
   "cell_type": "code",
   "execution_count": 2,
   "metadata": {},
   "outputs": [],
   "source": [
    "_HTML_HEAD = '''\\\n",
    "<!DOCTYPE html>\n",
    "<html lang=\"en\">\n",
    "<head>\n",
    "<meta charset=\"utf-8\">\n",
    "<meta name=\"description\" content=\"Quaternionic hyperbolic spaces\">\n",
    "<meta name=\"keywords\" content=\"quaternions, projective spaces, hyperbolic spaces, sympletic groups\">\n",
    "<meta name=\"author\" content=\"J. Carlos Diaz Ramos\">\n",
    "<meta name=\"viewport\" content=\"width=device-width, initial-scale=1\">\n",
    "<script async src=\"https://cdn.jsdelivr.net/npm/mathjax@3/es5/tex-chtml.js\"></script>\n",
    "<script>\n",
    "(function() {\n",
    "    window.MathJax = {\n",
    "        tex: {\n",
    "            inlineMath: [['$', '$'], ['\\\\\\\\(', '\\\\\\\\)']],\n",
    "            processEscapes: true,\n",
    "            macros: {\n",
    "                \"R\": \"{\\\\\\\\mathbb{R}}\",\n",
    "                \"C\": \"{\\\\\\\\mathbb{C}}\",\n",
    "                \"H\": \"{\\\\\\\\mathbb{H}}\",\n",
    "                \"id\": \"{\\\\\\\\operatorname{id}}\",\n",
    "                \"Exp\": \"{\\\\\\\\operatorname{Exp}}\",\n",
    "                \"tr\": \"{\\\\\\\\operatorname{tr}}\",\n",
    "                \"Ad\": \"{\\\\\\\\operatorname{Ad}}\",\n",
    "                \"ad\": \"{\\\\\\\\operatorname{ad}}\",\n",
    "                \"Re\": \"{\\\\\\\\operatorname{Re}\\\\\\\\,}\",\n",
    "                \"Im\": \"{\\\\\\\\operatorname{Im}\\\\\\\\,}\",\n",
    "                \"g\": [\"\\\\\\\\mathfrak{#1}\", 1],\n",
    "                \"Sp\": \"\\\\\\\\mathsf{Sp}\"\n",
    "            }\n",
    "        }\n",
    "    }\n",
    "})();\n",
    "</script>\n",
    "<style>\n",
    "    @import url(\"https://fonts.googleapis.com/css?family=Open+Sans&display=swap\");\n",
    "    body {\n",
    "        max-width: 800px;\n",
    "        margin: 0 auto;\n",
    "        background: lightgrey;\n",
    "        font-family: \"Open sans\", sans-serif;\n",
    "        text-align: justify;\n",
    "    }\n",
    "    main {\n",
    "        background: white;\n",
    "        padding: 1em;\n",
    "    }\n",
    "    .remark, .lemma, .proof {\n",
    "        \n",
    "    }\n",
    "    .remark > p:first-of-type::before {\n",
    "        font-weight: bold;\n",
    "        content: \"Remark. \";\n",
    "    }\n",
    "    .proposition > p:first-of-type::before {\n",
    "        font-weight: bold;\n",
    "        content: \"Proposition. \";\n",
    "    }\n",
    "    .lemma > p:first-of-type::before {\n",
    "        font-weight: bold;\n",
    "        content: \"Lemma. \";\n",
    "    }\n",
    "    .proof > p:first-of-type::before {\n",
    "        font-weight: bold;\n",
    "        content: \"Proof. \";\n",
    "    }\n",
    "</style>\n",
    "'''"
   ]
  },
  {
   "cell_type": "code",
   "execution_count": 3,
   "metadata": {},
   "outputs": [],
   "source": [
    "_HTML_END = '''\\\n",
    "</main>\n",
    "</body>\n",
    "</html>\n",
    "'''"
   ]
  },
  {
   "cell_type": "code",
   "execution_count": 4,
   "metadata": {},
   "outputs": [],
   "source": [
    "def _in_preamble(line: str) -> bool:\n",
    "    return not line.startswith('\\\\begin{document}')"
   ]
  },
  {
   "cell_type": "code",
   "execution_count": 5,
   "metadata": {},
   "outputs": [],
   "source": [
    "def _get_title(document: Iterable[str]) -> str:\n",
    "    for line in document:\n",
    "        if line.startswith('\\\\title{'):\n",
    "            return re.match(r'\\\\title\\{(.+)}', line).group(1)"
   ]
  },
  {
   "cell_type": "code",
   "execution_count": 6,
   "metadata": {},
   "outputs": [],
   "source": [
    "def _get_abstract(document: Iterable[str]) -> str:\n",
    "    abstract = ''\n",
    "    for line in document:\n",
    "        if line.startswith(r'\\begin{abstract}'):\n",
    "            while True:\n",
    "                text = next(document)\n",
    "                if text.startswith(r'\\end{abstract}'):\n",
    "                    return abstract\n",
    "                abstract += text\n"
   ]
  },
  {
   "cell_type": "code",
   "execution_count": 7,
   "metadata": {},
   "outputs": [],
   "source": [
    "def _process_abstract(document: Iterable[str]) -> Iterator[str]:\n",
    "    abstract = _get_abstract(document)\n",
    "    yield '<div class=\"abstract\">\\n'\n",
    "    yield f'<p><strong>Abstract</strong>. {abstract}</p>\\n'\n",
    "    yield '</div>\\n\\n'\n",
    "    for line in document:\n",
    "        if line.startswith(r'\\maketitle'):\n",
    "            return"
   ]
  },
  {
   "cell_type": "code",
   "execution_count": 8,
   "metadata": {},
   "outputs": [],
   "source": [
    "_HTML_REPLACEMENTS = [\n",
    "    ('\\\\\"a', '&auml;'),\n",
    "    ('~', ' '),\n",
    "    ('\\\\qedhere', ''),\n",
    "]\n",
    "\n",
    "def _to_html(text: str) -> str:\n",
    "    for tex, html in _HTML_REPLACEMENTS:\n",
    "        text = text.replace(tex, html)\n",
    "    return text"
   ]
  },
  {
   "cell_type": "code",
   "execution_count": 9,
   "metadata": {},
   "outputs": [],
   "source": [
    "_LIST_TYPE = {'itemize': 'ul', 'enumerate': 'ol'}\n",
    "\n",
    "def _process_list(document: Iterable[str], mode: str) -> Iterator[str]:\n",
    "    yield f'<{_LIST_TYPE[mode]}>\\n'\n",
    "    for line in document:\n",
    "        if line.startswith(f'\\\\end{{{mode}}}'):\n",
    "            break\n",
    "        else:\n",
    "            yield _to_html(line.replace('\\\\item ', '<li>'))\n",
    "    yield f'</{_LIST_TYPE[mode]}>\\n\\n'"
   ]
  },
  {
   "cell_type": "code",
   "execution_count": 10,
   "metadata": {},
   "outputs": [],
   "source": [
    "def _process_bibliography(document: Iterable[str]) -> Iterator[str]:\n",
    "    for line in document:\n",
    "        if line.startswith(r'\\end{thebibliography}'):\n",
    "            break\n",
    "        # TO DO: Process items\n",
    "    yield from ()"
   ]
  },
  {
   "cell_type": "code",
   "execution_count": 11,
   "metadata": {},
   "outputs": [],
   "source": [
    "def _process_document(document: Iterable[str]) -> Iterator[str]:\n",
    "    newline = True\n",
    "    for line in document:\n",
    "        if not line.strip():\n",
    "            if not newline:\n",
    "                yield '</p>\\n\\n'\n",
    "            newline = True\n",
    "        elif line.startswith(r'\\section{'):\n",
    "            section = re.match(r'\\\\section\\{(.+?)}', line).group(1)\n",
    "            yield f'<h2>{section}</h2>\\n\\n'\n",
    "            newline = True\n",
    "        elif line.startswith(r'\\begin{itemize}'):\n",
    "            yield from _process_list(document, 'itemize')\n",
    "        elif line.startswith(r'\\begin{enumerate}'):\n",
    "            yield from _process_list(document, 'enumerate')\n",
    "        elif line.startswith(r'\\begin{thebibliography}'):\n",
    "            yield from _process_bibliography(document)\n",
    "        elif line.startswith(r'\\begin{remark}'):\n",
    "            yield '<div class=\"remark\">\\n'\n",
    "        elif line.startswith(r'\\end{remark}'):\n",
    "            yield '</div>\\n\\n'\n",
    "        elif line.startswith(r'\\begin{lemma}'):\n",
    "            yield '<div class=\"lemma\">\\n'\n",
    "        elif line.startswith(r'\\end{lemma}'):\n",
    "            yield '</div>\\n\\n'\n",
    "        elif line.startswith(r'\\begin{proposition}'):\n",
    "            yield '<div class=\"proposition\">\\n'\n",
    "        elif line.startswith(r'\\end{proposition}'):\n",
    "            yield '</div>\\n\\n'\n",
    "        elif line.startswith(r'\\begin{proof}'):\n",
    "            yield '<div class=\"proof\">\\n'\n",
    "        elif line.startswith(r'\\end{proof}'):\n",
    "            yield '</div>\\n\\n'\n",
    "        elif line.startswith('\\\\medskip'):\n",
    "            newline = True\n",
    "        elif line.startswith(r'\\end{document}'):\n",
    "            return\n",
    "        else:\n",
    "            if newline:\n",
    "                yield '<p>'\n",
    "                newline = False\n",
    "            yield _to_html(line)"
   ]
  },
  {
   "cell_type": "code",
   "execution_count": 12,
   "metadata": {},
   "outputs": [],
   "source": [
    "def translate(tex_file: TextIO, html_file: TextIO) -> None:\n",
    "    html_file.write(_HTML_HEAD)\n",
    "    document = dropwhile(_in_preamble, tex_file)\n",
    "    title = _get_title(document)\n",
    "    html_file.write(f'<title>{title}</title>\\n')\n",
    "    html_file.write('</head>\\n\\n<body>\\n<main>\\n')\n",
    "    html_file.write(f'<h1>{title}</h1>\\n\\n')\n",
    "    html_file.writelines(_process_abstract(document))\n",
    "    html_file.writelines(_process_document(document))\n",
    "    html_file.write(_HTML_END)"
   ]
  },
  {
   "cell_type": "code",
   "execution_count": 13,
   "metadata": {},
   "outputs": [],
   "source": [
    "def tex_to_html(tex: Path, html: Path) -> None:\n",
    "    with (\n",
    "        tex.open(encoding='utf-8') as tex_file, \n",
    "        html.open('w', encoding='utf-8') as html_file\n",
    "    ):\n",
    "        translate(tex_file, html_file)"
   ]
  },
  {
   "cell_type": "code",
   "execution_count": 15,
   "metadata": {},
   "outputs": [],
   "source": [
    "FOLDER = Path()\n",
    "tex = FOLDER / 'HHn.tex'\n",
    "html = FOLDER / 'HHn.html'\n",
    "tex_to_html(tex, html)"
   ]
  },
  {
   "cell_type": "code",
   "execution_count": null,
   "metadata": {},
   "outputs": [],
   "source": []
  }
 ],
 "metadata": {
  "kernelspec": {
   "display_name": "Python 3",
   "language": "python",
   "name": "python3"
  },
  "language_info": {
   "codemirror_mode": {
    "name": "ipython",
    "version": 3
   },
   "file_extension": ".py",
   "mimetype": "text/x-python",
   "name": "python",
   "nbconvert_exporter": "python",
   "pygments_lexer": "ipython3",
   "version": "3.11.0"
  }
 },
 "nbformat": 4,
 "nbformat_minor": 2
}
